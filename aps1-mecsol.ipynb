{
 "cells": [
  {
   "cell_type": "markdown",
   "id": "1db22d28",
   "metadata": {},
   "source": [
    "### **APS 1 - MECSOL**\n",
    "\n",
    "#### **Grupo 13**\n",
    "- Felipe Lemos\n",
    "- Guilherme Lunetta\n",
    "- João Vitor Magalhães\n",
    "- José Fernandes\n",
    "\n",
    "**CONTEÚDO E OBJETIVOS DE APRENDIZADO**: Avaliar a troca de calor em aletas. Determinar a taxa, efetividade e eficiência."
   ]
  },
  {
   "cell_type": "markdown",
   "id": "5620d746",
   "metadata": {},
   "source": [
    "Estamos interessados em avaliar o comportamento térmico de uma aleta tipo pino construída em Alumínio-2014 e utilizada para aumentar a troca térmica de uma superfície que se encontra a 100°𝐶 imersa em um ambiente a 25°𝐶 sem movimentação forçada de fluido. Outras informações sobre a geometria da aleta estão disponíveis na Tabela 1. "
   ]
  },
  {
   "cell_type": "markdown",
   "id": "2f7dd829",
   "metadata": {},
   "source": [
    "\n",
    "<img src=\"./imagem.png\" width=33% alt=\"zorka\"></img>\n",
    "<img src=\"./tabela.png\"  width=33% alt=\"zorka\"> </img>\n"
   ]
  },
  {
   "cell_type": "markdown",
   "id": "8ee2280e",
   "metadata": {},
   "source": [
    "#### Importando as Bibliotecas"
   ]
  },
  {
   "cell_type": "code",
   "execution_count": 34,
   "id": "59e1f337",
   "metadata": {},
   "outputs": [],
   "source": [
    "import math\n",
    "import numpy as np\n",
    "import matplotlib.pyplot as plt"
   ]
  },
  {
   "cell_type": "markdown",
   "id": "c68388b0",
   "metadata": {},
   "source": [
    "**Questão 1** - [5,0 pontos] Desenvolva um programa em Python que receba as informações necessárias para determinar cada um dos itens a seguir:\n",
    " - Ajuste o modelo e defina as condições de contorno para obter um gráfico da distribuição de temperatura (𝑇_analítica) ao longo do comprimento da aleta. Qual a temperatura na extremidade da aleta? \n",
    " \n",
    " - Determine a taxa de transferência de calor, a eficiência e a efetividade para a geometria da aleta usada. \n",
    " \n",
    " - Assumindo a hipótese de aleta infinita, determine a taxa de transferência de calor. Compare esse valor com o resultado obtido no item anterior. Qual deveria ser o comprimento da aleta para que a hipótese de aleta infinita forneça uma medida precisa para a perda de calor. "
   ]
  },
  {
   "cell_type": "markdown",
   "id": "eca47e82",
   "metadata": {},
   "source": [
    "#### Questão 1 - Solução"
   ]
  },
  {
   "cell_type": "code",
   "execution_count": 80,
   "id": "b102767f",
   "metadata": {},
   "outputs": [
    {
     "data": {
      "image/png": "[encoded data removed]",
      "text/plain": [
       "<Figure size 432x288 with 1 Axes>"
      ]
     },
     "metadata": {
      "needs_background": "light"
     },
     "output_type": "display_data"
    }
   ],
   "source": [
    "## Informações gerais da aleta usada\n",
    "\n",
    "T_superficie = 100 ## ºC\n",
    "T_ambiente = 25 ## ºC\n",
    "raio = 12e-3 ## metros (m)\n",
    "comprimento = 168e-3 ## metros (m)\n",
    "\n",
    "h = 10 ## W/m^2*K\n",
    "k = 200 ## W/mK\n",
    "\n",
    "diametro = raio*2\n",
    "perimetro = math.pi*diametro ## perimetro em metros (m) da extremidade da aleta\n",
    "area = (math.pi*diametro**2)/4 ## área em metros (m) da extremidade da aleta\n",
    "\n",
    "teta_b = T_superficie - T_ambiente\n",
    "m = math.sqrt((h*perimetro)/(k*area))\n",
    "cosh_mL = math.cosh(m*comprimento)\n",
    "senh_mL = math.sinh(m*comprimento)\n",
    "h_mk = h/(m*k)\n",
    "dist_temp = (math.cosh(0) + h_mk*math.sinh(0))/(cosh_mL + h_mk*senh_mL)\n",
    "\n",
    "T_L = dist_temp*teta_b + T_ambiente\n",
    "\n",
    "list_x = np.arange(0, comprimento+0.001, 1e-6)\n",
    "list_T = []\n",
    "\n",
    "for x in list_x:\n",
    "    dist_temp = (math.cosh(m*(comprimento - x)) + h_mk*math.sinh(m*(comprimento - x)))/(math.cosh(m*comprimento) + h_mk*math.sinh(m*comprimento))\n",
    "    T = dist_temp*teta_b + T_ambiente\n",
    "    list_T.append(T)\n",
    "\n",
    "plt.plot(list_x, list_T)\n",
    "plt.title(\"Gráfico distribuição de temperatura ao longo da aleta (OBS: Zé god)\")\n",
    "plt.grid()\n",
    "plt.xlabel(\"Comprimento (m)\")\n",
    "plt.ylabel(\"Temperatura (ºC)\")\n",
    "plt.show()"
   ]
  },
  {
   "cell_type": "code",
   "execution_count": 81,
   "id": "1d4d6bde",
   "metadata": {},
   "outputs": [
    {
     "name": "stdout",
     "output_type": "stream",
     "text": [
      "Temperatura na extremidade da aleta: 91.45 ºC\n"
     ]
    }
   ],
   "source": [
    "print(\"Temperatura na extremidade da aleta: {:.2f} ºC\".format(T_L))"
   ]
  },
  {
   "cell_type": "code",
   "execution_count": 82,
   "id": "b147117e",
   "metadata": {},
   "outputs": [
    {
     "name": "stdout",
     "output_type": "stream",
     "text": [
      "Transferência de calor: 9.09 W\n",
      "Efetividade da aleta: 26.78\n",
      "Eficiência: 92.36 %\n"
     ]
    }
   ],
   "source": [
    "## Taxa de calor\n",
    "\n",
    "M = math.sqrt(h*perimetro*k*area)*teta_b\n",
    "q = M*((senh_mL+h_mk * cosh_mL)/(cosh_mL+h_mk * senh_mL))\n",
    "\n",
    "print(\"Transferência de calor: {:.2f} W\".format(q))\n",
    "\n",
    "## Efetividade\n",
    "\n",
    "ea = q/(h*(math.pi*raio**2)*teta_b)\n",
    "\n",
    "print(\"Efetividade da aleta: {:.2f}\".format(ea))\n",
    "\n",
    "## Eficiência\n",
    "\n",
    "na = q/(h*(area + (2*raio*math.pi*comprimento))*teta_b)\n",
    "\n",
    "print(\"Eficiência: {:.2f} %\".format(na*100))"
   ]
  },
  {
   "cell_type": "code",
   "execution_count": 83,
   "id": "5c70254f",
   "metadata": {},
   "outputs": [
    {
     "name": "stdout",
     "output_type": "stream",
     "text": [
      "Transferência de calor: 19.59 W\n",
      "O comprimento da aleta infinita deveria ser 0.36 metros\n"
     ]
    }
   ],
   "source": [
    "## Caso de aleta infinita\n",
    "\n",
    "print(\"Transferência de calor: {:.2f} W\".format(M))\n",
    "\n",
    "x = (comprimento*M)/q\n",
    "\n",
    "print(\"O comprimento da aleta infinita deveria ser {:.2f} metros\".format(x))"
   ]
  },
  {
   "cell_type": "markdown",
   "id": "fc05b502",
   "metadata": {},
   "source": [
    "**Questão 2** - [5,0 pontos] Um longo bastão circular de alumínio tem uma de suas extremidades fixada a uma parede aquecida e transfere calor por convecção para um fluido frio. \n",
    "- Se o diâmetro do bastão fosse triplicado, qual seria a mudança na taxa de remoção de calor através do bastão? \n",
    "- Se um bastão de cobre com o mesmo diâmetro fosse usado em lugar do bastão de alumínio, qual seria a mudança na taxa de remoção de calor através do bastão? Considere: \n",
    "     $$𝑘_{cu} = 400\\frac{W}{mK}$$ \n",
    "     \n",
    "     $$𝑘_{al} = 240\\frac{W}{mK}$$. "
   ]
  },
  {
   "cell_type": "markdown",
   "id": "4bc13a6d",
   "metadata": {},
   "source": [
    "#### Questão 2 - Solução"
   ]
  },
  {
   "cell_type": "markdown",
   "id": "4ecd03c2",
   "metadata": {},
   "source": [
    "- Se o diâmetro do bastão fosse triplicado, qual seria a mudança na taxa de remoção de calor através do bastão? \n",
    "\n",
    "De acordo com a fórmula:\n",
    "    \n",
    "    \n",
    "        q = q'' * A\n",
    "        \n",
    "A taxa de transferência de calor aumenta caso a área aumente. Como o diametro aumentou em 3 vezes, a área vai aumentar também,\n",
    "portanto, a taxa vai aumentar."
   ]
  },
  {
   "cell_type": "code",
   "execution_count": null,
   "id": "ad565704",
   "metadata": {},
   "outputs": [],
   "source": [
    "- Se um bastão de cobre com o mesmo diâmetro fosse usado em lugar do bastão de alumínio, qual seria a mudança na taxa de remoção de calor através do bastão? Considere: \n",
    "     $$𝑘_{cu} = 400\\frac{W}{mK}$$ \n",
    "     \n",
    "     $$𝑘_{al} = 240\\frac{W}{mK}$$. \n",
    "        \n",
    "A taxa de transferência de calor irá ter um aumento muito pequeno."
   ]
  }
 ],
 "metadata": {
  "kernelspec": {
   "display_name": "Python 3 (ipykernel)",
   "language": "python",
   "name": "python3"
  },
  "language_info": {
   "codemirror_mode": {
    "name": "ipython",
    "version": 3
   },
   "file_extension": ".py",
   "mimetype": "text/x-python",
   "name": "python",
   "nbconvert_exporter": "python",
   "pygments_lexer": "ipython3",
   "version": "3.10.2"
  }
 },
 "nbformat": 4,
 "nbformat_minor": 5
}
