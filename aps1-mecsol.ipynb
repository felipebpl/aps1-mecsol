{
 "cells": [
  {
   "cell_type": "markdown",
   "id": "1db22d28",
   "metadata": {},
   "source": [
    "### **APS 1 - MECSOL**\n",
    "\n",
    "#### **Grupo 13**\n",
    "- Felipe Lemos\n",
    "- Guilherme Lunetta\n",
    "- João Vitor Magalhães\n",
    "- José Fernandes\n",
    "\n",
    "**CONTEÚDO E OBJETIVOS DE APRENDIZADO**: Avaliar a troca de calor em aletas. Determinar a taxa, efetividade e eficiência."
   ]
  },
  {
   "cell_type": "markdown",
   "id": "5620d746",
   "metadata": {},
   "source": [
    "Estamos interessados em avaliar o comportamento térmico de uma aleta tipo pino construída em Alumínio-2014 e utilizada para aumentar a troca térmica de uma superfície que se encontra a 100°𝐶 imersa em um ambiente a 25°𝐶 sem movimentação forçada de fluido. Outras informações sobre a geometria da aleta estão disponíveis na Tabela 1. "
   ]
  },
  {
   "cell_type": "markdown",
   "id": "2f7dd829",
   "metadata": {},
   "source": [
    "\n",
    "<img src=\"./imagem.png\" width=33% alt=\"zorka\"></img>\n",
    "<img src=\"./tabela.png\"  width=33% alt=\"zorka\"> </img>\n"
   ]
  },
  {
   "cell_type": "markdown",
   "id": "8ee2280e",
   "metadata": {},
   "source": [
    "#### Importando as Bibliotecas"
   ]
  },
  {
   "cell_type": "code",
   "execution_count": 13,
   "id": "59e1f337",
   "metadata": {},
   "outputs": [],
   "source": [
    "import math"
   ]
  },
  {
   "cell_type": "markdown",
   "id": "c68388b0",
   "metadata": {},
   "source": [
    "**Questão 1** - [5,0 pontos] Desenvolva um programa em Python que receba as informações necessárias para determinar cada um dos itens a seguir:\n",
    " - Ajuste o modelo e defina as condições de contorno para obter um gráfico da distribuição de temperatura (𝑇_analítica) ao longo do comprimento da aleta. Qual a temperatura na extremidade da aleta? \n",
    " \n",
    " - Determine a taxa de transferência de calor, a eficiência e a efetividade para a geometria da aleta usada. \n",
    " \n",
    " - Assumindo a hipótese de aleta infinita, determine a taxa de transferência de calor. Compare esse valor com o resultado obtido no item anterior. Qual deveria ser o comprimento da aleta para que a hipótese de aleta infinita forneça uma medida precisa para a perda de calor. "
   ]
  },
  {
   "cell_type": "markdown",
   "id": "eca47e82",
   "metadata": {},
   "source": [
    "#### Questão 1 - Solução"
   ]
  },
  {
   "cell_type": "code",
   "execution_count": 18,
   "id": "b102767f",
   "metadata": {},
   "outputs": [
    {
     "data": {
      "text/plain": [
       "0.024"
      ]
     },
     "execution_count": 18,
     "metadata": {},
     "output_type": "execute_result"
    }
   ],
   "source": [
    "## Informações gerais da aleta usada\n",
    "\n",
    "T_superficie = 100 ## ºC\n",
    "T_ambiente = 25 ## ºC\n",
    "raio = 12e-3 ## metros (m)\n",
    "comprimento = 168e-3 ## metros (m)\n",
    "\n",
    "diametro = raio*2\n",
    "perimetro = math.pi*diametro ## perimetro em metros (m) da extremidade da aleta\n",
    "area = (math.pi*diametro**2)/4 ## área em metros (m) da extremidade da aleta\n",
    "\n",
    "diametro"
   ]
  },
  {
   "cell_type": "markdown",
   "id": "fc05b502",
   "metadata": {},
   "source": [
    "**Questão 2** - [5,0 pontos] Um longo bastão circular de alumínio tem uma de suas extremidades fixada a uma parede aquecida e transfere calor por convecção para um fluido frio. \n",
    "- Se o diâmetro do bastão fosse triplicado, qual seria a mudança na taxa de remoção de calor através do bastão? \n",
    "- Se um bastão de cobre com o mesmo diâmetro fosse usado em lugar do bastão de alumínio, qual seria a mudança na taxa de remoção de calor através do bastão? Considere: \n",
    "     $$𝑘_{cu} = 400\\frac{W}{mK}$$ \n",
    "     \n",
    "     $$𝑘_{al} = 240\\frac{W}{mK}$$. "
   ]
  },
  {
   "cell_type": "markdown",
   "id": "4bc13a6d",
   "metadata": {},
   "source": [
    "#### Questão 2 - Solução"
   ]
  },
  {
   "cell_type": "code",
   "execution_count": null,
   "id": "8c765794",
   "metadata": {},
   "outputs": [],
   "source": []
  }
 ],
 "metadata": {
  "kernelspec": {
   "display_name": "Python 3",
   "language": "python",
   "name": "python3"
  },
  "language_info": {
   "codemirror_mode": {
    "name": "ipython",
    "version": 3
   },
   "file_extension": ".py",
   "mimetype": "text/x-python",
   "name": "python",
   "nbconvert_exporter": "python",
   "pygments_lexer": "ipython3",
   "version": "3.8.8"
  }
 },
 "nbformat": 4,
 "nbformat_minor": 5
}
