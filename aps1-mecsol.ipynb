{
 "cells": [
  {
   "cell_type": "markdown",
   "id": "e7760ea7",
   "metadata": {},
   "source": [
    "### **APS 1 - MECSOL**\n",
    "\n",
    "#### **Grupo 13**\n",
    "\n",
    "**CONTEÚDO E OBJETIVOS DE APRENDIZADO**: Avaliar a troca de calor em aletas. Determinar a taxa, efetividade e eficiência."
   ]
  },
  {
   "cell_type": "markdown",
   "id": "068bb75f",
   "metadata": {},
   "source": [
    "#### Importando as Bibliotecas"
   ]
  },
  {
   "cell_type": "code",
   "execution_count": 13,
   "id": "59e1f337",
   "metadata": {},
   "outputs": [],
   "source": [
    "import math"
   ]
  },
  {
   "cell_type": "markdown",
   "id": "94dd1f24",
   "metadata": {},
   "source": [
    "**Questão 1** - [5,0 pontos] Desenvolva um programa em Python que receba as informações necessárias para determinar cada um dos itens a seguir:\n",
    " - Ajuste o modelo e defina as condições de contorno para obter um gráfico da distribuição de temperatura (𝑇_analítica) ao longo do comprimento da aleta. Qual a temperatura na extremidade da aleta? \n",
    " \n",
    " - Determine a taxa de transferência de calor, a eficiência e a efetividade para a geometria da aleta usada. \n",
    " \n",
    " - Assumindo a hipótese de aleta infinita, determine a taxa de transferência de calor. Compare esse valor com o resultado obtido no item anterior. Qual deveria ser o comprimento da aleta para que a hipótese de aleta infinita forneça uma medida precisa para a perda de calor. "
   ]
  },
  {
   "cell_type": "markdown",
   "id": "06598c00",
   "metadata": {},
   "source": [
    "#### Questão 1 - Solução"
   ]
  },
  {
   "cell_type": "code",
   "execution_count": 18,
   "id": "b102767f",
   "metadata": {},
   "outputs": [
    {
     "data": {
      "text/plain": [
       "0.024"
      ]
     },
     "execution_count": 18,
     "metadata": {},
     "output_type": "execute_result"
    }
   ],
   "source": [
    "## Informações gerais da aleta usada\n",
    "\n",
    "T_superficie = 100 ## ºC\n",
    "T_ambiente = 25 ## ºC\n",
    "raio = 12e-3 ## metros (m)\n",
    "comprimento = 168e-3 ## metros (m)\n",
    "\n",
    "diametro = raio*2\n",
    "perimetro = math.pi*diametro ## perimetro em metros (m) da extremidade da aleta\n",
    "area = (math.pi*diametro**2)/4 ## área em metros (m) da extremidade da aleta\n",
    "\n",
    "diametro"
   ]
  },
  {
   "cell_type": "markdown",
   "id": "82c6e068",
   "metadata": {},
   "source": [
    "**Questão 2** - [5,0 pontos] Um longo bastão circular de alumínio tem uma de suas extremidades fixada a uma parede aquecida e transfere calor por convecção para um fluido frio. \n",
    "- Se o diâmetro do bastão fosse triplicado, qual seria a mudança na taxa de remoção de calor através do bastão? \n",
    "- Se um bastão de cobre com o mesmo diâmetro fosse usado em lugar do bastão de alumínio, qual seria a mudança na taxa de remoção de calor através do bastão? Considere: \n",
    "     $$𝑘_{cu} = 400\\frac{W}{mK}$$ \n",
    "     \n",
    "     $$𝑘_{al} = 240\\frac{W}{mK}$$. "
   ]
  },
  {
   "cell_type": "markdown",
   "id": "f34ee6d5",
   "metadata": {},
   "source": [
    "#### Questão 2 - Solução"
   ]
  },
  {
   "cell_type": "code",
   "execution_count": null,
   "id": "6e331c47",
   "metadata": {},
   "outputs": [],
   "source": []
  }
 ],
 "metadata": {
  "kernelspec": {
   "display_name": "Python 3",
   "language": "python",
   "name": "python3"
  },
  "language_info": {
   "codemirror_mode": {
    "name": "ipython",
    "version": 3
   },
   "file_extension": ".py",
   "mimetype": "text/x-python",
   "name": "python",
   "nbconvert_exporter": "python",
   "pygments_lexer": "ipython3",
   "version": "3.8.8"
  }
 },
 "nbformat": 4,
 "nbformat_minor": 5
}
