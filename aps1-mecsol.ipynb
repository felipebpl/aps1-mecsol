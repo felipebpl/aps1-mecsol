{
 "cells": [
  {
   "cell_type": "code",
   "execution_count": 13,
   "id": "59e1f337",
   "metadata": {},
   "outputs": [],
   "source": [
    "## Imports gerais\n",
    "\n",
    "import math"
   ]
  },
  {
   "cell_type": "code",
   "execution_count": 18,
   "id": "b102767f",
   "metadata": {},
   "outputs": [
    {
     "data": {
      "text/plain": [
       "0.024"
      ]
     },
     "execution_count": 18,
     "metadata": {},
     "output_type": "execute_result"
    }
   ],
   "source": [
    "## Informações gerais da aleta usada\n",
    "\n",
    "T_superficie = 100 ## ºC\n",
    "T_ambiente = 25 ## ºC\n",
    "raio = 12e-3 ## metros (m)\n",
    "comprimento = 168e-3 ## metros (m)\n",
    "\n",
    "diametro = raio*2\n",
    "perimetro = math.pi*diametro ## perimetro em metros (m) da extremidade da aleta\n",
    "area = (math.pi*diametro**2)/4 ## área em metros (m) da extremidade da aleta\n",
    "\n",
    "diametro"
   ]
  },
  {
   "cell_type": "code",
   "execution_count": null,
   "id": "dabbe17d",
   "metadata": {},
   "outputs": [],
   "source": []
  }
 ],
 "metadata": {
  "kernelspec": {
   "display_name": "Python 3 (ipykernel)",
   "language": "python",
   "name": "python3"
  },
  "language_info": {
   "codemirror_mode": {
    "name": "ipython",
    "version": 3
   },
   "file_extension": ".py",
   "mimetype": "text/x-python",
   "name": "python",
   "nbconvert_exporter": "python",
   "pygments_lexer": "ipython3",
   "version": "3.10.2"
  }
 },
 "nbformat": 4,
 "nbformat_minor": 5
}
